{
 "cells": [
  {
   "cell_type": "markdown",
   "metadata": {},
   "source": [
    "# **A7: Training Distillation vs LoRA**\n",
    "In this assignment, we will explore the comparison between Odd Layer and Even Layer Student Training Models and LoRA (Low-Rank Adaptation) on a distillation task using BERT from Huggingface."
   ]
  },
  {
   "cell_type": "markdown",
   "metadata": {},
   "source": [
    "#### **Load Libraries and define device**"
   ]
  },
  {
   "cell_type": "code",
   "execution_count": 1,
   "metadata": {},
   "outputs": [
    {
     "name": "stdout",
     "output_type": "stream",
     "text": [
      "cpu\n"
     ]
    }
   ],
   "source": [
    "import os\n",
    "import datasets\n",
    "import transformers\n",
    "import torch\n",
    "import torch.nn as nn\n",
    "import torch.nn.functional as F\n",
    "import torch.optim as optim\n",
    "from torch.utils.data import DataLoader\n",
    "from torch.utils.data import TensorDataset\n",
    "from torch.utils.data import random_split\n",
    "from tqdm.auto import tqdm\n",
    "from datasets import load_dataset, DatasetDict\n",
    "\n",
    "# device = torch.device('cuda' if torch.cuda.is_available() else 'cpu')\n",
    "# device = torch.device('mps' if torch.backends.mps.is_available() else 'cpu')\n",
    "device = torch.device('cpu')\n",
    "print(device)\n",
    "\n",
    "#make our work comparable if restarted the kernel\n",
    "SEED = 1234\n",
    "torch.manual_seed(SEED)\n",
    "torch.backends.cudnn.deterministic = True"
   ]
  },
  {
   "cell_type": "markdown",
   "metadata": {},
   "source": [
    "#### **Task 1. Hate Speech/Toxic Comment Dataset**\n",
    "Find and load a dataset that includes toxic comments or hate speech. This dataset will be used for training and evaluating the models. (1 point)"
   ]
  },
  {
   "cell_type": "code",
   "execution_count": 2,
   "metadata": {},
   "outputs": [
    {
     "name": "stdout",
     "output_type": "stream",
     "text": [
      "DatasetDict({\n",
      "    train: Dataset({\n",
      "        features: ['text', 'label'],\n",
      "        num_rows: 31060\n",
      "    })\n",
      "    validation: Dataset({\n",
      "        features: ['text', 'label'],\n",
      "        num_rows: 3883\n",
      "    })\n",
      "    test: Dataset({\n",
      "        features: ['text', 'label'],\n",
      "        num_rows: 3883\n",
      "    })\n",
      "})\n"
     ]
    }
   ],
   "source": [
    "# Load the dataset\n",
    "dataset = load_dataset('christinacdl/hate_speech_2_classes')\n",
    "\n",
    "# Print the dataset dictionary\n",
    "print(dataset) "
   ]
  },
  {
   "cell_type": "markdown",
   "metadata": {},
   "source": [
    "The `dataset` `christinacdl/hate_speech_2_classes` contains `38,826 number` of samples with `31.1K train`, `3.88K validation` and `3.88K test`. This dataset has two features `text` and `label`. The label is defined as `1 for toxic or hate speech` and `0 for non-toxic or non-hate speech`."
   ]
  },
  {
   "cell_type": "code",
   "execution_count": 4,
   "metadata": {},
   "outputs": [
    {
     "name": "stdout",
     "output_type": "stream",
     "text": [
      "Label Mapping: {'non-toxic': 0, 'toxic': 1}\n"
     ]
    }
   ],
   "source": [
    "from datasets import ClassLabel\n",
    "\n",
    "# Define label mapping\n",
    "label_feature = ClassLabel(names=[\"non-toxic\", \"toxic\"])  # With label 0 = non-toxic, and label 1 = toxic\n",
    "\n",
    "# Apply casting to each split\n",
    "dataset = DatasetDict({\n",
    "    \"train\": dataset[\"train\"].cast_column(\"label\", label_feature),\n",
    "    \"validation\": dataset[\"validation\"].cast_column(\"label\", label_feature),\n",
    "    \"test\": dataset[\"test\"].cast_column(\"label\", label_feature),\n",
    "})\n",
    "\n",
    "# Now retrieve label names correctly\n",
    "label_list = dataset[\"train\"].features[\"label\"].names\n",
    "label2id = {v: i for i, v in enumerate(label_list)}\n",
    "\n",
    "print(\"Label Mapping:\", label2id)"
   ]
  },
  {
   "cell_type": "code",
   "execution_count": 5,
   "metadata": {},
   "outputs": [
    {
     "data": {
      "text/plain": [
       "{0: 'non-toxic', 1: 'toxic'}"
      ]
     },
     "execution_count": 5,
     "metadata": {},
     "output_type": "execute_result"
    }
   ],
   "source": [
    "id2label = {i: v for v, i in label2id.items()}\n",
    "id2label"
   ]
  },
  {
   "cell_type": "code",
   "execution_count": 6,
   "metadata": {},
   "outputs": [
    {
     "name": "stdout",
     "output_type": "stream",
     "text": [
      "Number of unique labels in Train: 2\n",
      "Number of unique labels in Validation: 2\n",
      "Number of unique labels in Test: 2\n"
     ]
    }
   ],
   "source": [
    "import numpy as np \n",
    "\n",
    "# Get number of unique labels for train, validation, and test\n",
    "num_labels_train = dataset[\"train\"].features[\"label\"].num_classes\n",
    "num_labels_val = dataset[\"validation\"].features[\"label\"].num_classes\n",
    "num_labels_test = dataset[\"test\"].features[\"label\"].num_classes\n",
    "\n",
    "print(f\"Number of unique labels in Train: {num_labels_train}\")\n",
    "print(f\"Number of unique labels in Validation: {num_labels_val}\")\n",
    "print(f\"Number of unique labels in Test: {num_labels_test}\")"
   ]
  },
  {
   "cell_type": "code",
   "execution_count": 7,
   "metadata": {},
   "outputs": [
    {
     "name": "stderr",
     "output_type": "stream",
     "text": [
      "Some weights of BertForSequenceClassification were not initialized from the model checkpoint at bert-base-uncased and are newly initialized: ['classifier.bias', 'classifier.weight']\n",
      "You should probably TRAIN this model on a down-stream task to be able to use it for predictions and inference.\n"
     ]
    },
    {
     "data": {
      "text/plain": [
       "BertForSequenceClassification(\n",
       "  (bert): BertModel(\n",
       "    (embeddings): BertEmbeddings(\n",
       "      (word_embeddings): Embedding(30522, 768, padding_idx=0)\n",
       "      (position_embeddings): Embedding(512, 768)\n",
       "      (token_type_embeddings): Embedding(2, 768)\n",
       "      (LayerNorm): LayerNorm((768,), eps=1e-12, elementwise_affine=True)\n",
       "      (dropout): Dropout(p=0.1, inplace=False)\n",
       "    )\n",
       "    (encoder): BertEncoder(\n",
       "      (layer): ModuleList(\n",
       "        (0-11): 12 x BertLayer(\n",
       "          (attention): BertAttention(\n",
       "            (self): BertSdpaSelfAttention(\n",
       "              (query): Linear(in_features=768, out_features=768, bias=True)\n",
       "              (key): Linear(in_features=768, out_features=768, bias=True)\n",
       "              (value): Linear(in_features=768, out_features=768, bias=True)\n",
       "              (dropout): Dropout(p=0.1, inplace=False)\n",
       "            )\n",
       "            (output): BertSelfOutput(\n",
       "              (dense): Linear(in_features=768, out_features=768, bias=True)\n",
       "              (LayerNorm): LayerNorm((768,), eps=1e-12, elementwise_affine=True)\n",
       "              (dropout): Dropout(p=0.1, inplace=False)\n",
       "            )\n",
       "          )\n",
       "          (intermediate): BertIntermediate(\n",
       "            (dense): Linear(in_features=768, out_features=3072, bias=True)\n",
       "            (intermediate_act_fn): GELUActivation()\n",
       "          )\n",
       "          (output): BertOutput(\n",
       "            (dense): Linear(in_features=3072, out_features=768, bias=True)\n",
       "            (LayerNorm): LayerNorm((768,), eps=1e-12, elementwise_affine=True)\n",
       "            (dropout): Dropout(p=0.1, inplace=False)\n",
       "          )\n",
       "        )\n",
       "      )\n",
       "    )\n",
       "    (pooler): BertPooler(\n",
       "      (dense): Linear(in_features=768, out_features=768, bias=True)\n",
       "      (activation): Tanh()\n",
       "    )\n",
       "  )\n",
       "  (dropout): Dropout(p=0.1, inplace=False)\n",
       "  (classifier): Linear(in_features=768, out_features=2, bias=True)\n",
       ")"
      ]
     },
     "execution_count": 7,
     "metadata": {},
     "output_type": "execute_result"
    }
   ],
   "source": [
    "# Teacher Model\n",
    "from transformers import AutoModelForSequenceClassification\n",
    "from transformers import AutoTokenizer\n",
    "\n",
    "teacher_id = \"bert-base-uncased\"\n",
    "tokenizer = AutoTokenizer.from_pretrained(teacher_id)\n",
    "\n",
    "teacher_model = AutoModelForSequenceClassification.from_pretrained(\n",
    "    teacher_id, \n",
    "    num_labels = num_labels_train,\n",
    "    id2label = id2label,\n",
    "    label2id = label2id,\n",
    ")\n",
    "\n",
    "teacher_model"
   ]
  },
  {
   "cell_type": "code",
   "execution_count": 8,
   "metadata": {},
   "outputs": [
    {
     "name": "stdout",
     "output_type": "stream",
     "text": [
      "['text', 'label']\n",
      "{'text': \"i can understand that and if it ' s someone i know i will debate with them but i am not willing to spend that much time trying to change the mind of someone i do not know i tryed that with people and gun control and it just get stupid because they will not try to understand\", 'label': 1}\n"
     ]
    }
   ],
   "source": [
    "print(dataset[\"train\"].column_names)  # To see the columns of the dataset\n",
    "print(dataset[\"train\"][0])  # To check the format of an example\n"
   ]
  },
  {
   "cell_type": "code",
   "execution_count": 9,
   "metadata": {},
   "outputs": [],
   "source": [
    "def tokenize_function(examples):\n",
    "    texts = [str(text) for text in examples[\"text\"]]  # Ensure all inputs are strings\n",
    "    return tokenizer(texts, padding=False, truncation=True, max_length=512)"
   ]
  },
  {
   "cell_type": "code",
   "execution_count": 10,
   "metadata": {},
   "outputs": [
    {
     "data": {
      "application/vnd.jupyter.widget-view+json": {
       "model_id": "39d6c80c33914018a46398f57b926ea0",
       "version_major": 2,
       "version_minor": 0
      },
      "text/plain": [
       "Map:   0%|          | 0/3883 [00:00<?, ? examples/s]"
      ]
     },
     "metadata": {},
     "output_type": "display_data"
    },
    {
     "name": "stdout",
     "output_type": "stream",
     "text": [
      "{'text': \"i can understand that and if it ' s someone i know i will debate with them but i am not willing to spend that much time trying to change the mind of someone i do not know i tryed that with people and gun control and it just get stupid because they will not try to understand\", 'label': 1, 'input_ids': [101, 1045, 2064, 3305, 2008, 1998, 2065, 2009, 1005, 1055, 2619, 1045, 2113, 1045, 2097, 5981, 2007, 2068, 2021, 1045, 2572, 2025, 5627, 2000, 5247, 2008, 2172, 2051, 2667, 2000, 2689, 1996, 2568, 1997, 2619, 1045, 2079, 2025, 2113, 1045, 3046, 2098, 2008, 2007, 2111, 1998, 3282, 2491, 1998, 2009, 2074, 2131, 5236, 2138, 2027, 2097, 2025, 3046, 2000, 3305, 102], 'token_type_ids': [0, 0, 0, 0, 0, 0, 0, 0, 0, 0, 0, 0, 0, 0, 0, 0, 0, 0, 0, 0, 0, 0, 0, 0, 0, 0, 0, 0, 0, 0, 0, 0, 0, 0, 0, 0, 0, 0, 0, 0, 0, 0, 0, 0, 0, 0, 0, 0, 0, 0, 0, 0, 0, 0, 0, 0, 0, 0, 0, 0, 0], 'attention_mask': [1, 1, 1, 1, 1, 1, 1, 1, 1, 1, 1, 1, 1, 1, 1, 1, 1, 1, 1, 1, 1, 1, 1, 1, 1, 1, 1, 1, 1, 1, 1, 1, 1, 1, 1, 1, 1, 1, 1, 1, 1, 1, 1, 1, 1, 1, 1, 1, 1, 1, 1, 1, 1, 1, 1, 1, 1, 1, 1, 1, 1]}\n"
     ]
    }
   ],
   "source": [
    "tokenized_datasets = dataset.map(tokenize_function, batched=True)\n",
    "\n",
    "# Check an example\n",
    "print(tokenized_datasets[\"train\"][0])"
   ]
  },
  {
   "cell_type": "code",
   "execution_count": 11,
   "metadata": {},
   "outputs": [
    {
     "data": {
      "text/plain": [
       "DatasetDict({\n",
       "    train: Dataset({\n",
       "        features: ['text', 'label', 'input_ids', 'token_type_ids', 'attention_mask'],\n",
       "        num_rows: 31060\n",
       "    })\n",
       "    validation: Dataset({\n",
       "        features: ['text', 'label', 'input_ids', 'token_type_ids', 'attention_mask'],\n",
       "        num_rows: 3883\n",
       "    })\n",
       "    test: Dataset({\n",
       "        features: ['text', 'label', 'input_ids', 'token_type_ids', 'attention_mask'],\n",
       "        num_rows: 3883\n",
       "    })\n",
       "})"
      ]
     },
     "execution_count": 11,
     "metadata": {},
     "output_type": "execute_result"
    }
   ],
   "source": [
    "tokenized_datasets"
   ]
  },
  {
   "cell_type": "code",
   "execution_count": 12,
   "metadata": {},
   "outputs": [
    {
     "name": "stdout",
     "output_type": "stream",
     "text": [
      "['text']\n"
     ]
    }
   ],
   "source": [
    "columns = [\"text\"]\n",
    "column_dataset = [item for item in columns if item == \"text\"]\n",
    "\n",
    "print(column_dataset)"
   ]
  },
  {
   "cell_type": "code",
   "execution_count": 13,
   "metadata": {},
   "outputs": [
    {
     "data": {
      "text/plain": [
       "DatasetDict({\n",
       "    train: Dataset({\n",
       "        features: ['labels', 'input_ids', 'token_type_ids', 'attention_mask'],\n",
       "        num_rows: 31060\n",
       "    })\n",
       "    validation: Dataset({\n",
       "        features: ['labels', 'input_ids', 'token_type_ids', 'attention_mask'],\n",
       "        num_rows: 3883\n",
       "    })\n",
       "    test: Dataset({\n",
       "        features: ['labels', 'input_ids', 'token_type_ids', 'attention_mask'],\n",
       "        num_rows: 3883\n",
       "    })\n",
       "})"
      ]
     },
     "execution_count": 13,
     "metadata": {},
     "output_type": "execute_result"
    }
   ],
   "source": [
    "#remove column : 'premise', 'hypothesis', 'idx'\n",
    "tokenized_datasets = tokenized_datasets.remove_columns(column_dataset)\n",
    "#rename column : 'labels'\n",
    "tokenized_datasets = tokenized_datasets.rename_column(\"label\", \"labels\")\n",
    "tokenized_datasets.set_format(\"torch\")\n",
    "tokenized_datasets"
   ]
  },
  {
   "cell_type": "code",
   "execution_count": 14,
   "metadata": {},
   "outputs": [
    {
     "data": {
      "text/plain": [
       "tensor([ 101, 1045, 2064, 3305, 2008, 1998, 2065, 2009, 1005, 1055, 2619, 1045,\n",
       "        2113, 1045, 2097, 5981, 2007, 2068, 2021, 1045, 2572, 2025, 5627, 2000,\n",
       "        5247, 2008, 2172, 2051, 2667, 2000, 2689, 1996, 2568, 1997, 2619, 1045,\n",
       "        2079, 2025, 2113, 1045, 3046, 2098, 2008, 2007, 2111, 1998, 3282, 2491,\n",
       "        1998, 2009, 2074, 2131, 5236, 2138, 2027, 2097, 2025, 3046, 2000, 3305,\n",
       "         102])"
      ]
     },
     "execution_count": 14,
     "metadata": {},
     "output_type": "execute_result"
    }
   ],
   "source": [
    "tokenized_datasets['train'][0]['input_ids']"
   ]
  },
  {
   "cell_type": "code",
   "execution_count": 15,
   "metadata": {},
   "outputs": [
    {
     "data": {
      "text/plain": [
       "\"[CLS] i can understand that and if it ' s someone i know i will debate with them but i am not willing to spend that much time trying to change the mind of someone i do not know i tryed that with people and gun control and it just get stupid because they will not try to understand [SEP]\""
      ]
     },
     "execution_count": 15,
     "metadata": {},
     "output_type": "execute_result"
    }
   ],
   "source": [
    "tokenizer.decode(tokenized_datasets['train'][0]['input_ids'])"
   ]
  },
  {
   "cell_type": "code",
   "execution_count": 16,
   "metadata": {},
   "outputs": [],
   "source": [
    "from transformers import DataCollatorWithPadding\n",
    "data_collator = DataCollatorWithPadding(tokenizer=tokenizer)"
   ]
  },
  {
   "cell_type": "code",
   "execution_count": 17,
   "metadata": {},
   "outputs": [],
   "source": [
    "small_train_dataset = tokenized_datasets[\"train\"].shuffle(seed=1150).select(range(31060))\n",
    "small_eval_dataset = tokenized_datasets[\"validation\"].shuffle(seed=1150).select(range(3883))\n",
    "small_test_dataset = tokenized_datasets[\"test\"].shuffle(seed=1150).select(range(3883))"
   ]
  },
  {
   "cell_type": "code",
   "execution_count": 18,
   "metadata": {},
   "outputs": [],
   "source": [
    "from torch.utils.data import DataLoader\n",
    "train_dataloader = DataLoader(\n",
    "    small_train_dataset, shuffle=True, batch_size=32, collate_fn=data_collator)\n",
    "test_dataloader = DataLoader(\n",
    "    small_test_dataset, batch_size=32, collate_fn=data_collator)\n",
    "eval_dataloader = DataLoader(\n",
    "    small_eval_dataset, batch_size=32, collate_fn=data_collator)"
   ]
  },
  {
   "cell_type": "code",
   "execution_count": 19,
   "metadata": {},
   "outputs": [
    {
     "data": {
      "text/plain": [
       "(torch.Size([32]), torch.Size([32, 115]), torch.Size([32, 115]))"
      ]
     },
     "execution_count": 19,
     "metadata": {},
     "output_type": "execute_result"
    }
   ],
   "source": [
    "for batch in train_dataloader:\n",
    "    break\n",
    "    \n",
    "batch['labels'].shape, batch['input_ids'].shape, batch['attention_mask'].shape"
   ]
  },
  {
   "cell_type": "code",
   "execution_count": 20,
   "metadata": {},
   "outputs": [
    {
     "data": {
      "text/plain": [
       "BertConfig {\n",
       "  \"_attn_implementation_autoset\": true,\n",
       "  \"_name_or_path\": \"bert-base-uncased\",\n",
       "  \"architectures\": [\n",
       "    \"BertForMaskedLM\"\n",
       "  ],\n",
       "  \"attention_probs_dropout_prob\": 0.1,\n",
       "  \"classifier_dropout\": null,\n",
       "  \"gradient_checkpointing\": false,\n",
       "  \"hidden_act\": \"gelu\",\n",
       "  \"hidden_dropout_prob\": 0.1,\n",
       "  \"hidden_size\": 768,\n",
       "  \"id2label\": {\n",
       "    \"0\": \"non-toxic\",\n",
       "    \"1\": \"toxic\"\n",
       "  },\n",
       "  \"initializer_range\": 0.02,\n",
       "  \"intermediate_size\": 3072,\n",
       "  \"label2id\": {\n",
       "    \"non-toxic\": 0,\n",
       "    \"toxic\": 1\n",
       "  },\n",
       "  \"layer_norm_eps\": 1e-12,\n",
       "  \"max_position_embeddings\": 512,\n",
       "  \"model_type\": \"bert\",\n",
       "  \"num_attention_heads\": 12,\n",
       "  \"num_hidden_layers\": 12,\n",
       "  \"pad_token_id\": 0,\n",
       "  \"position_embedding_type\": \"absolute\",\n",
       "  \"transformers_version\": \"4.47.1\",\n",
       "  \"type_vocab_size\": 2,\n",
       "  \"use_cache\": true,\n",
       "  \"vocab_size\": 30522\n",
       "}"
      ]
     },
     "execution_count": 20,
     "metadata": {},
     "output_type": "execute_result"
    }
   ],
   "source": [
    "teacher_model.config"
   ]
  },
  {
   "cell_type": "code",
   "execution_count": 21,
   "metadata": {},
   "outputs": [],
   "source": [
    "from transformers.models.bert.modeling_bert import BertPreTrainedModel, BertConfig\n",
    "# Get teacher configuration as a dictionnary\n",
    "configuration = teacher_model.config.to_dict()"
   ]
  },
  {
   "cell_type": "code",
   "execution_count": 22,
   "metadata": {},
   "outputs": [],
   "source": [
    "# Half the number of hidden layer\n",
    "configuration['num_hidden_layers'] //= 2\n",
    "# Convert the dictionnary to the student configuration\n",
    "configuration = BertConfig.from_dict(configuration)"
   ]
  },
  {
   "cell_type": "code",
   "execution_count": 23,
   "metadata": {},
   "outputs": [
    {
     "data": {
      "text/plain": [
       "BertForSequenceClassification(\n",
       "  (bert): BertModel(\n",
       "    (embeddings): BertEmbeddings(\n",
       "      (word_embeddings): Embedding(30522, 768, padding_idx=0)\n",
       "      (position_embeddings): Embedding(512, 768)\n",
       "      (token_type_embeddings): Embedding(2, 768)\n",
       "      (LayerNorm): LayerNorm((768,), eps=1e-12, elementwise_affine=True)\n",
       "      (dropout): Dropout(p=0.1, inplace=False)\n",
       "    )\n",
       "    (encoder): BertEncoder(\n",
       "      (layer): ModuleList(\n",
       "        (0-5): 6 x BertLayer(\n",
       "          (attention): BertAttention(\n",
       "            (self): BertSelfAttention(\n",
       "              (query): Linear(in_features=768, out_features=768, bias=True)\n",
       "              (key): Linear(in_features=768, out_features=768, bias=True)\n",
       "              (value): Linear(in_features=768, out_features=768, bias=True)\n",
       "              (dropout): Dropout(p=0.1, inplace=False)\n",
       "            )\n",
       "            (output): BertSelfOutput(\n",
       "              (dense): Linear(in_features=768, out_features=768, bias=True)\n",
       "              (LayerNorm): LayerNorm((768,), eps=1e-12, elementwise_affine=True)\n",
       "              (dropout): Dropout(p=0.1, inplace=False)\n",
       "            )\n",
       "          )\n",
       "          (intermediate): BertIntermediate(\n",
       "            (dense): Linear(in_features=768, out_features=3072, bias=True)\n",
       "            (intermediate_act_fn): GELUActivation()\n",
       "          )\n",
       "          (output): BertOutput(\n",
       "            (dense): Linear(in_features=3072, out_features=768, bias=True)\n",
       "            (LayerNorm): LayerNorm((768,), eps=1e-12, elementwise_affine=True)\n",
       "            (dropout): Dropout(p=0.1, inplace=False)\n",
       "          )\n",
       "        )\n",
       "      )\n",
       "    )\n",
       "    (pooler): BertPooler(\n",
       "      (dense): Linear(in_features=768, out_features=768, bias=True)\n",
       "      (activation): Tanh()\n",
       "    )\n",
       "  )\n",
       "  (dropout): Dropout(p=0.1, inplace=False)\n",
       "  (classifier): Linear(in_features=768, out_features=2, bias=True)\n",
       ")"
      ]
     },
     "execution_count": 23,
     "metadata": {},
     "output_type": "execute_result"
    }
   ],
   "source": [
    "# Create uninitialized student model\n",
    "model = type(teacher_model)(configuration)\n",
    "model"
   ]
  },
  {
   "cell_type": "code",
   "execution_count": 24,
   "metadata": {},
   "outputs": [],
   "source": [
    "from transformers.models.bert.modeling_bert import BertEncoder, BertModel\n",
    "from torch.nn import Module\n",
    "\n",
    "def distill_bert_weights(\n",
    "    teacher : Module,\n",
    "    student : Module,\n",
    "    init_method : str\n",
    ") -> None:\n",
    "    \"\"\"\n",
    "    Recursively copies the weights of the (teacher) to the (student).\n",
    "    This function is meant to be first called on a BertFor... model, but is then called on every children of that model recursively.\n",
    "    The only part that's not fully copied is the encoder, of which only half is copied based on init_method.\n",
    "    \"\"\"\n",
    "    # If the part is an entire BERT model or a BERTFor..., unpack and iterate\n",
    "    if isinstance(teacher, BertModel) or type(teacher).__name__.startswith('BertFor'):\n",
    "        for teacher_part, student_part in zip(teacher.children(), student.children()):\n",
    "            distill_bert_weights(teacher_part, student_part, init_method)\n",
    "    \n",
    "    # Else if the part is an encoder, copy one out of every layer based on init_method\n",
    "    elif isinstance(teacher, BertEncoder):\n",
    "        teacher_encoding_layers = [layer for layer in next(teacher.children())]  # 12 layers\n",
    "        student_encoding_layers = [layer for layer in next(student.children())]  # 6 layers\n",
    "        \n",
    "        # Odd Layers\n",
    "        if init_method == 'Odd Layer':\n",
    "            for i in range(len(student_encoding_layers)):\n",
    "                student_encoding_layers[i].load_state_dict(teacher_encoding_layers[i*2+1].state_dict())  # Odd layers, index starts from 1\n",
    "\n",
    "        # Even Layers\n",
    "        elif init_method == 'Even Layer':\n",
    "            for i in range(len(student_encoding_layers)):\n",
    "                student_encoding_layers[i].load_state_dict(teacher_encoding_layers[i*2].state_dict())  # Even layers, index starts from 0\n",
    "\n",
    "        else:\n",
    "            raise Exception(\"init_method is invalid. Select between 'Odd Layer' or 'Even Layer'\")\n",
    "\n",
    "    # Else the part is a head or something else, copy the state_dict\n",
    "    else:\n",
    "        student.load_state_dict(teacher.state_dict())\n",
    "\n",
    "    return model  # Returning 'model'"
   ]
  },
  {
   "cell_type": "code",
   "execution_count": 25,
   "metadata": {},
   "outputs": [],
   "source": [
    "model_types = ['Odd Layer', 'Even Layer']"
   ]
  },
  {
   "cell_type": "code",
   "execution_count": 26,
   "metadata": {},
   "outputs": [
    {
     "name": "stdout",
     "output_type": "stream",
     "text": [
      "Teacher parameters: 109483778\n",
      "Student (Odd Layer) parameters: 66956546\n",
      "Student (Even Layer) parameters: 66956546\n"
     ]
    }
   ],
   "source": [
    "def count_parameters(model):\n",
    "    return sum(p.numel() for p in model.parameters() if p.requires_grad)\n",
    "\n",
    "# Count teacher model parameters\n",
    "print('Teacher parameters:', count_parameters(teacher_model))\n",
    "\n",
    "# Distill to students using different initialization methods\n",
    "for model_type in model_types:\n",
    "    # Create a student model\n",
    "    student_model = type(teacher_model)(configuration)\n",
    "    \n",
    "    # Apply distillation with the selected method\n",
    "    distill_bert_weights(teacher=teacher_model, student=student_model, init_method=model_type)\n",
    "    \n",
    "    # Count and print student model parameters\n",
    "    print(f'Student ({model_type}) parameters:', count_parameters(student_model))"
   ]
  },
  {
   "cell_type": "code",
   "execution_count": 27,
   "metadata": {},
   "outputs": [
    {
     "name": "stdout",
     "output_type": "stream",
     "text": [
      "Student (Odd Layer) has 61.16% of the teacher model's parameters.\n",
      "Student (Even Layer) has 61.16% of the teacher model's parameters.\n"
     ]
    }
   ],
   "source": [
    "# Calculate the percentage of parameters in the student model compared to the teacher model\n",
    "def count_parameters(model):\n",
    "    return sum(p.numel() for p in model.parameters() if p.requires_grad)\n",
    "\n",
    "def calculate_percentage_of_parameters(student_model, teacher_model):\n",
    "    student_params = count_parameters(student_model)\n",
    "    teacher_params = count_parameters(teacher_model)\n",
    "    return (student_params / teacher_params) * 100\n",
    "\n",
    "# Count teacher model parameters once\n",
    "teacher_params = count_parameters(teacher_model)\n",
    "\n",
    "# Print the percentage for each student model after distillation\n",
    "for model_type in model_types:\n",
    "    student_model = type(teacher_model)(configuration)\n",
    "    distill_bert_weights(teacher=teacher_model, student=student_model, init_method=model_type)\n",
    "    \n",
    "    # Calculate and print the percentage of parameters in the student model compared to the teacher model\n",
    "    percentage = calculate_percentage_of_parameters(student_model, teacher_model)\n",
    "    print(f\"Student ({model_type}) has {percentage:.2f}% of the teacher model's parameters.\")"
   ]
  },
  {
   "cell_type": "code",
   "execution_count": 28,
   "metadata": {},
   "outputs": [],
   "source": [
    "class DistillKL(nn.Module):\n",
    "    \"\"\"\n",
    "    Distilling the Knowledge in a Neural Network\n",
    "    Compute the knowledge-distillation (KD) loss given outputs, labels.\n",
    "    \"Hyperparameters\": temperature and alpha\n",
    "\n",
    "    NOTE: the KL Divergence for PyTorch comparing the softmaxs of teacher\n",
    "    and student expects the input tensor to be log probabilities! \n",
    "    \"\"\"\n",
    "\n",
    "    def __init__(self):\n",
    "        super(DistillKL, self).__init__()\n",
    "\n",
    "    def forward(self, output_student, output_teacher, temperature=1):\n",
    "        '''\n",
    "        Note: the output_student and output_teacher are logits \n",
    "        '''\n",
    "        T = temperature #.cuda()\n",
    "        \n",
    "        KD_loss = nn.KLDivLoss(reduction='batchmean')(\n",
    "            F.log_softmax(output_student/T, dim=-1),\n",
    "            F.softmax(output_teacher/T, dim=-1)\n",
    "        ) * T * T\n",
    "        \n",
    "        return KD_loss"
   ]
  },
  {
   "cell_type": "code",
   "execution_count": 29,
   "metadata": {},
   "outputs": [],
   "source": [
    "criterion_div = DistillKL()\n",
    "criterion_cos = nn.CosineEmbeddingLoss()"
   ]
  },
  {
   "cell_type": "code",
   "execution_count": 30,
   "metadata": {},
   "outputs": [],
   "source": [
    "import torch.optim as optim\n",
    "import torch.nn as nn\n",
    "\n",
    "lr = 5e-5\n",
    "\n",
    "#training hyperparameters\n",
    "optimizer = optim.Adam(params=model.parameters(), lr=lr)"
   ]
  },
  {
   "cell_type": "code",
   "execution_count": 31,
   "metadata": {},
   "outputs": [],
   "source": [
    "teacher_model = teacher_model.to(device)"
   ]
  },
  {
   "cell_type": "code",
   "execution_count": 32,
   "metadata": {},
   "outputs": [],
   "source": [
    "from transformers import get_scheduler\n",
    "\n",
    "num_epochs = 3\n",
    "num_update_steps_per_epoch = len(train_dataloader)\n",
    "num_training_steps = num_epochs * num_update_steps_per_epoch\n",
    "\n",
    "lr_scheduler = get_scheduler(\n",
    "    name=\"linear\", \n",
    "    optimizer=optimizer, \n",
    "    num_warmup_steps=0, \n",
    "    num_training_steps=num_training_steps\n",
    ")"
   ]
  },
  {
   "cell_type": "code",
   "execution_count": 33,
   "metadata": {},
   "outputs": [],
   "source": [
    "import numpy as np\n",
    "import evaluate\n",
    "\n",
    "metric = evaluate.load('accuracy')"
   ]
  },
  {
   "cell_type": "markdown",
   "metadata": {},
   "source": [
    "#### **Task 2. Odd Layer vs Even Layer Training** \n",
    "Based on the case-studies/distilBERT.ipynb, modify as follows:\n",
    "1) Train the student model using the odd layers {1, 3, 5, 7, 9, 11}from the 12-layer teacher to the 6-layer student. (1 point)\n",
    "2) Train the student model using the even layers {2, 4, 6, 8, 10, 12}from the 12-layer teacher to the 6-layer student. (1 point)"
   ]
  },
  {
   "cell_type": "code",
   "execution_count": 34,
   "metadata": {},
   "outputs": [
    {
     "name": "stdout",
     "output_type": "stream",
     "text": [
      "\n",
      "===== Odd Layer =====\n"
     ]
    },
    {
     "data": {
      "application/vnd.jupyter.widget-view+json": {
       "model_id": "6e7e49a392be4dccbea6e33f682425ac",
       "version_major": 2,
       "version_minor": 0
      },
      "text/plain": [
       "  0%|          | 0/2913 [00:00<?, ?it/s]"
      ]
     },
     "metadata": {},
     "output_type": "display_data"
    },
    {
     "name": "stdout",
     "output_type": "stream",
     "text": [
      "Epoch at 1: Train loss 0.2143:\n",
      "  - Loss_cls: 0.5518\n",
      "  - Loss_div: 0.0533\n",
      "  - Loss_cos: 0.0379\n",
      "Epoch at 1: Test loss 0.4885\n",
      "Epoch at 1: Test Acc 0.8210\n",
      "Epoch at 2: Train loss 0.1928:\n",
      "  - Loss_cls: 0.4582\n",
      "  - Loss_div: 0.0851\n",
      "  - Loss_cos: 0.0352\n",
      "Epoch at 2: Test loss 0.4736\n",
      "Epoch at 2: Test Acc 0.8416\n",
      "Epoch at 3: Train loss 0.1789:\n",
      "  - Loss_cls: 0.3948\n",
      "  - Loss_div: 0.1069\n",
      "  - Loss_cos: 0.0349\n",
      "Epoch at 3: Test loss 0.4594\n",
      "Epoch at 3: Test Acc 0.8429\n",
      "Avg Metric 0.8351789853206283\n",
      "\n",
      "===== Even Layer =====\n"
     ]
    },
    {
     "data": {
      "application/vnd.jupyter.widget-view+json": {
       "model_id": "33572c15c6ea4e29a998685c9b21a541",
       "version_major": 2,
       "version_minor": 0
      },
      "text/plain": [
       "  0%|          | 0/2913 [00:00<?, ?it/s]"
      ]
     },
     "metadata": {},
     "output_type": "display_data"
    },
    {
     "name": "stdout",
     "output_type": "stream",
     "text": [
      "Epoch at 1: Train loss 0.2145:\n",
      "  - Loss_cls: 0.5490\n",
      "  - Loss_div: 0.0557\n",
      "  - Loss_cos: 0.0388\n",
      "Epoch at 1: Test loss 0.4864\n",
      "Epoch at 1: Test Acc 0.8257\n",
      "Epoch at 2: Train loss 0.1930:\n",
      "  - Loss_cls: 0.4560\n",
      "  - Loss_div: 0.0872\n",
      "  - Loss_cos: 0.0358\n",
      "Epoch at 2: Test loss 0.4683\n",
      "Epoch at 2: Test Acc 0.8378\n",
      "Epoch at 3: Train loss 0.1778:\n",
      "  - Loss_cls: 0.3881\n",
      "  - Loss_div: 0.1095\n",
      "  - Loss_cos: 0.0357\n",
      "Epoch at 3: Test loss 0.4567\n",
      "Epoch at 3: Test Acc 0.8416\n",
      "Avg Metric 0.8350072967636707\n"
     ]
    }
   ],
   "source": [
    "import torch\n",
    "from tqdm.auto import tqdm\n",
    "\n",
    "model_scores = {}\n",
    "\n",
    "for model_type in model_types:\n",
    "\n",
    "    model = type(teacher_model)(configuration)\n",
    "    model = distill_bert_weights(teacher=teacher_model, student=model, init_method=model_type)\n",
    "    model = model.to(device)\n",
    "\n",
    "    print(f\"\\n===== {model_type} =====\")\n",
    "\n",
    "    progress_bar = tqdm(range(num_training_steps))\n",
    "    eval_metrics = 0\n",
    "\n",
    "    #training hyperparameters\n",
    "    optimizer = optim.Adam(params=model.parameters(), lr=lr)\n",
    "    lr_scheduler = get_scheduler(\n",
    "    name=\"linear\", \n",
    "    optimizer=optimizer, \n",
    "    num_warmup_steps=0, \n",
    "    num_training_steps=num_training_steps\n",
    "    )\n",
    "\n",
    "    # Lists to store losses for each epoch\n",
    "    train_losses = []\n",
    "    train_losses_cls = []\n",
    "    train_losses_div = []\n",
    "    train_losses_cos = []\n",
    "    eval_losses = []\n",
    "\n",
    "    for epoch in range(num_epochs):\n",
    "        model.train()\n",
    "        teacher_model.eval()\n",
    "        train_loss = 0\n",
    "        train_loss_cls = 0\n",
    "        train_loss_div = 0\n",
    "        train_loss_cos = 0\n",
    "        \n",
    "        for batch in train_dataloader:\n",
    "            batch = {k: v.to(device) for k, v in batch.items()}\n",
    "            # compute student output\n",
    "            outputs = model(**batch) \n",
    "            # compute teacher output\n",
    "            with torch.no_grad():\n",
    "                output_teacher = teacher_model(**batch)\n",
    "\n",
    "            # assert size\n",
    "            assert outputs.logits.size() == output_teacher.logits.size()\n",
    "            \n",
    "            # cls loss \n",
    "            loss_cls  = outputs.loss\n",
    "            train_loss_cls += loss_cls.item()\n",
    "            # distillation loss\n",
    "            loss_div = criterion_div(outputs.logits, output_teacher.logits)\n",
    "            train_loss_div += loss_div.item()\n",
    "            # cosine loss\n",
    "            loss_cos = criterion_cos(output_teacher.logits, outputs.logits, torch.ones(output_teacher.logits.size()[0]).to(device))\n",
    "            train_loss_cos += loss_cos.item()\n",
    "            \n",
    "            # Average the loss and return it\n",
    "            loss = (loss_cls + loss_div + loss_cos) / 3\n",
    "            \n",
    "            train_loss += loss.item()\n",
    "            loss.backward()\n",
    "            # accelerator.backward(loss)\n",
    "            # Step with optimizer\n",
    "            optimizer.step()\n",
    "            lr_scheduler.step()\n",
    "            optimizer.zero_grad()\n",
    "            progress_bar.update(1)\n",
    "\n",
    "        train_losses.append(train_loss / len(train_dataloader))\n",
    "        train_losses_cls.append(train_loss_cls / len(train_dataloader))\n",
    "        train_losses_div.append(train_loss_div / len(train_dataloader))\n",
    "        train_losses_cos.append(train_loss_cos / len(train_dataloader))\n",
    "\n",
    "        print(f'Epoch at {epoch+1}: Train loss {train_loss/len(train_dataloader):.4f}:')\n",
    "        print(f'  - Loss_cls: {train_loss_cls/len(train_dataloader):.4f}')\n",
    "        print(f'  - Loss_div: {train_loss_div/len(train_dataloader):.4f}')\n",
    "        print(f'  - Loss_cos: {train_loss_cos/len(train_dataloader):.4f}')\n",
    "\n",
    "        model.eval()\n",
    "        eval_loss = 0\n",
    "        for batch in eval_dataloader:\n",
    "            batch = {k: v.to(device) for k, v in batch.items()}\n",
    "            with torch.no_grad():\n",
    "                outputs = model(**batch)\n",
    "                \n",
    "            loss_cls = outputs.loss\n",
    "            predictions = outputs.logits.argmax(dim=-1)\n",
    "\n",
    "            eval_loss += loss_cls.item()\n",
    "            # predictions, references = accelerator.gather((predictions, batch[\"labels\"]))\n",
    "            metric.add_batch(\n",
    "                predictions=predictions, \n",
    "                references=batch[\"labels\"])\n",
    "            \n",
    "        eval_metric = metric.compute()\n",
    "        eval_metrics += eval_metric['accuracy'] \n",
    "        eval_losses.append(eval_loss / len(eval_dataloader))  # Save the evaluation loss for plotting\n",
    "        \n",
    "        print(f\"Epoch at {epoch+1}: Test loss {eval_loss / len(eval_dataloader):.4f}\")\n",
    "        print(f\"Epoch at {epoch+1}: Test Acc {eval_metric['accuracy']:.4f}\")\n",
    "        \n",
    "    print('Avg Metric', eval_metrics/num_epochs)\n",
    "\n",
    "    model_scores[model_type] = {score_name: globals()[score_name] for score_name in [\n",
    "        'train_losses', 'train_losses_cls', 'train_losses_div', 'train_losses_cos', 'eval_losses'\n",
    "    ]}\n",
    "\n",
    "    progress_bar.close()"
   ]
  },
  {
   "cell_type": "code",
   "execution_count": 36,
   "metadata": {},
   "outputs": [
    {
     "data": {
      "image/png": "[encoded data removed]",
      "text/plain": [
       "<Figure size 1200x400 with 2 Axes>"
      ]
     },
     "metadata": {},
     "output_type": "display_data"
    }
   ],
   "source": [
    "import matplotlib.pyplot as plt\n",
    "\n",
    "# Define the number of models and epochs\n",
    "epochs_list = range(1, num_epochs + 1)\n",
    "\n",
    "# Set limit for y-axis of all subplots to max and min values of losses\n",
    "loss_types = ['train_losses', 'train_losses_cls', 'train_losses_div', 'train_losses_cos', 'eval_losses']\n",
    "\n",
    "# Create subplots (fig, axes) using subplots() for more control\n",
    "fig, axes = plt.subplots(1, 2, figsize=(12, 4))  # Assuming a 2x2 grid for 4 models\n",
    "\n",
    "# Flatten axes array for easier iteration\n",
    "axes = axes.flatten()\n",
    "\n",
    "# Plot for each model\n",
    "for i, (model_name, scores) in enumerate(model_scores.items()):\n",
    "    # For each model, plot the losses\n",
    "    axes[i].plot(epochs_list, scores['train_losses'], label='Total Train Loss')\n",
    "    axes[i].plot(epochs_list, scores['train_losses_cls'], label='Train Loss_cls')\n",
    "    axes[i].plot(epochs_list, scores['train_losses_div'], label='Train Loss_div')\n",
    "    axes[i].plot(epochs_list, scores['train_losses_cos'], label='Train Loss_cos')\n",
    "    axes[i].plot(epochs_list, scores['eval_losses'], label='Validation Loss')\n",
    "\n",
    "    # Set the title and labels\n",
    "    axes[i].set_title(model_name)\n",
    "    axes[i].set_xlabel('Epochs')\n",
    "    axes[i].set_ylabel('Loss')\n",
    "\n",
    "    # Set limits for y-axis dynamically based on each model's losses\n",
    "    y_upper_lim = max([score for loss_type in loss_types for score in scores[loss_type]])\n",
    "    y_lower_lim = min([score for loss_type in loss_types for score in scores[loss_type]])\n",
    "    axes[i].set_ylim(y_lower_lim, y_upper_lim)\n",
    "\n",
    "    # Add legend\n",
    "    axes[i].legend(loc='upper right')\n",
    "\n",
    "# Adjust layout\n",
    "fig.suptitle('Training and Validation Losses', fontsize=16)\n",
    "plt.tight_layout(rect=[0, 0, 1, 0.96])  # Adjust for the main title space\n",
    "plt.show()"
   ]
  },
  {
   "cell_type": "code",
   "execution_count": 37,
   "metadata": {},
   "outputs": [
    {
     "name": "stdout",
     "output_type": "stream",
     "text": [
      "Odd Layer Model Predictions:\n",
      "Text: I love you, Prediction: Non-Toxic\n",
      "Text: I hate you, Prediction: Toxic\n",
      "\n",
      "Even Layer Model Predictions:\n",
      "Text: I love you, Prediction: Non-Toxic\n",
      "Text: I hate you, Prediction: Toxic\n"
     ]
    }
   ],
   "source": [
    "# The text to classify\n",
    "texts = ['I love you', 'I hate you']\n",
    "\n",
    "# Tokenizing the texts\n",
    "inputs = tokenizer(texts, padding=False, truncation=True, return_tensors=\"pt\").to(device)\n",
    "\n",
    "# Function to perform inference with both models\n",
    "def predict_with_model(model, inputs):\n",
    "    model.eval()\n",
    "    with torch.no_grad():\n",
    "        outputs = model(**inputs)\n",
    "        logits = outputs.logits\n",
    "        predictions = logits.argmax(dim=-1)  # Get the predicted class\n",
    "    return predictions\n",
    "\n",
    "# Load your trained models (Odd Layer and Even Layer)\n",
    "odd_layer_model = type(teacher_model)(configuration)  # Ensure correct configuration\n",
    "odd_layer_model = distill_bert_weights(teacher=teacher_model, student=odd_layer_model, init_method='Odd Layer')\n",
    "odd_layer_model = odd_layer_model.to(device)\n",
    "\n",
    "even_layer_model = type(teacher_model)(configuration)  # Ensure correct configuration\n",
    "even_layer_model = distill_bert_weights(teacher=teacher_model, student=even_layer_model, init_method='Even Layer')\n",
    "even_layer_model = even_layer_model.to(device)\n",
    "\n",
    "# Predict toxicity for both models\n",
    "odd_layer_predictions = predict_with_model(odd_layer_model, inputs)\n",
    "even_layer_predictions = predict_with_model(even_layer_model, inputs)\n",
    "\n",
    "# Print results\n",
    "print(\"Odd Layer Model Predictions:\")\n",
    "for text, pred in zip(texts, odd_layer_predictions):\n",
    "    print(f\"Text: {text}, Prediction: {'Toxic' if pred.item() == 1 else 'Non-Toxic'}\")\n",
    "\n",
    "print(\"\\nEven Layer Model Predictions:\")\n",
    "for text, pred in zip(texts, even_layer_predictions):\n",
    "    print(f\"Text: {text}, Prediction: {'Toxic' if pred.item() == 1 else 'Non-Toxic'}\")\n"
   ]
  },
  {
   "cell_type": "code",
   "execution_count": 38,
   "metadata": {},
   "outputs": [
    {
     "data": {
      "application/vnd.jupyter.widget-view+json": {
       "model_id": "4339914ebdeb45cc86714ab106b11726",
       "version_major": 2,
       "version_minor": 0
      },
      "text/plain": [
       "  0%|          | 0/2913 [00:00<?, ?it/s]"
      ]
     },
     "metadata": {},
     "output_type": "display_data"
    },
    {
     "name": "stdout",
     "output_type": "stream",
     "text": [
      "Epoch at 1: Train loss 0.4334:\n",
      "Epoch at 1: Test Acc 0.8280\n",
      "Epoch at 2: Train loss 0.2975:\n",
      "Epoch at 2: Test Acc 0.8331\n",
      "Epoch at 3: Train loss 0.1910:\n",
      "Epoch at 3: Test Acc 0.8411\n",
      "Avg Metric 0.8340630097004036\n"
     ]
    }
   ],
   "source": [
    "#Teacher model\n",
    "\n",
    "lr = 5e-5\n",
    "\n",
    "#training hyperparameters\n",
    "optimizer = optim.Adam(params=teacher_model.parameters(), lr=lr)\n",
    "\n",
    "progress_bar = tqdm(range(num_training_steps))\n",
    "eval_metrics = 0\n",
    "\n",
    "for epoch in range(num_epochs):\n",
    "    teacher_model.train()\n",
    "    train_loss = 0\n",
    "    for step, batch in enumerate(train_dataloader):\n",
    "        batch = {k: v.to(device) for k, v in batch.items()}\n",
    "        output_teacher = teacher_model(**batch)\n",
    "        # cls loss \n",
    "        loss = output_teacher.loss\n",
    "        train_loss += loss.item()\n",
    "        loss.backward()\n",
    "        # accelerator.backward(loss)\n",
    "        # Step with optimizer\n",
    "        optimizer.step()\n",
    "        lr_scheduler.step()\n",
    "        optimizer.zero_grad()\n",
    "        progress_bar.update(1)\n",
    "\n",
    "    print(f'Epoch at {epoch+1}: Train loss {train_loss/len(train_dataloader):.4f}:')\n",
    "    \n",
    "    teacher_model.eval()\n",
    "    for step, batch in enumerate(eval_dataloader):\n",
    "        batch = {k: v.to(device) for k, v in batch.items()}\n",
    "        with torch.no_grad():\n",
    "            outputs = teacher_model(**batch)\n",
    "    \n",
    "        predictions = outputs.logits.argmax(dim=-1)\n",
    "        # predictions, references = accelerator.gather((predictions, batch[\"labels\"]))\n",
    "        metric.add_batch(\n",
    "            predictions=predictions, \n",
    "            references=batch[\"labels\"])\n",
    "        \n",
    "    eval_metric = metric.compute()\n",
    "    eval_metrics += eval_metric['accuracy'] \n",
    "    print(f\"Epoch at {epoch+1}: Test Acc {eval_metric['accuracy']:.4f}\")\n",
    "    \n",
    "print('Avg Metric', eval_metrics/num_epochs)"
   ]
  },
  {
   "cell_type": "code",
   "execution_count": 41,
   "metadata": {},
   "outputs": [
    {
     "name": "stdout",
     "output_type": "stream",
     "text": [
      "Models saved successfully:\n",
      " - ./app/models/student_odd_layer_model\n",
      " - ./app/models/student_even_layer_model\n"
     ]
    }
   ],
   "source": [
    "# Define paths for saving\n",
    "odd_layer_model_path = \"./app/models/student_odd_layer_model\"\n",
    "even_layer_model_path = \"./app/models/student_even_layer_model\"\n",
    "\n",
    "# Save the models\n",
    "torch.save(odd_layer_model.state_dict(), odd_layer_model_path)\n",
    "torch.save(even_layer_model.state_dict(), even_layer_model_path)\n",
    "\n",
    "print(f\"Models saved successfully:\\n - {odd_layer_model_path}\\n - {even_layer_model_path}\")"
   ]
  },
  {
   "cell_type": "markdown",
   "metadata": {},
   "source": [
    "#### **Task 3. LoRA (Low-Rank Adaptation)**\n",
    "Implement LoRA to train the 12-layer student model. (1 point)"
   ]
  },
  {
   "cell_type": "code",
   "execution_count": 56,
   "metadata": {},
   "outputs": [
    {
     "name": "stdout",
     "output_type": "stream",
     "text": [
      "trainable params: 443,906 || all params: 109,927,684 || trainable%: 0.4038\n"
     ]
    }
   ],
   "source": [
    "from transformers import AutoModel, AutoModelForCausalLM\n",
    "from peft import get_peft_config, get_peft_model, LoraConfig, TaskType\n",
    "\n",
    "student_model = teacher_model\n",
    "\n",
    "peft_config = LoraConfig(\n",
    "    task_type=TaskType.SEQ_CLS, \n",
    "    inference_mode=False, \n",
    "    r=8, \n",
    "    lora_alpha=32, \n",
    "    lora_dropout=0.1,\n",
    "    bias=\"none\",\n",
    "    target_modules=[\"query\", \"key\", \"value\"]\n",
    ")\n",
    "\n",
    "model_lora = get_peft_model(student_model, peft_config)\n",
    "model_lora.print_trainable_parameters()"
   ]
  },
  {
   "cell_type": "code",
   "execution_count": 57,
   "metadata": {},
   "outputs": [],
   "source": [
    "import evaluate\n",
    "from sklearn.metrics import accuracy_score\n",
    "metric = evaluate.load(\"accuracy\")\n",
    "\n",
    "def compute_metrics(eval_preds):\n",
    "    logits, labels = eval_preds\n",
    "    predictions = np.argmax(logits, axis=-1)  # Convert logits to class predictions\n",
    "    accuracy = accuracy_score(labels, predictions)  # Compute accuracy\n",
    "    return {\"accuracy\": accuracy}"
   ]
  },
  {
   "cell_type": "code",
   "execution_count": 58,
   "metadata": {},
   "outputs": [
    {
     "name": "stderr",
     "output_type": "stream",
     "text": [
      "/opt/anaconda3/envs/PyEnv/lib/python3.9/site-packages/transformers/training_args.py:1575: FutureWarning: `evaluation_strategy` is deprecated and will be removed in version 4.46 of 🤗 Transformers. Use `eval_strategy` instead\n",
      "  warnings.warn(\n",
      "/var/folders/f9/s34gjkt15353mj0f6b0668qh0000gn/T/ipykernel_89361/994673780.py:25: FutureWarning: `tokenizer` is deprecated and will be removed in version 5.0.0 for `Trainer.__init__`. Use `processing_class` instead.\n",
      "  trainer = Trainer(\n"
     ]
    },
    {
     "data": {
      "application/vnd.jupyter.widget-view+json": {
       "model_id": "ac850aaabdcf417d8227804ea7e417ba",
       "version_major": 2,
       "version_minor": 0
      },
      "text/plain": [
       "  0%|          | 0/3882 [00:00<?, ?it/s]"
      ]
     },
     "metadata": {},
     "output_type": "display_data"
    },
    {
     "name": "stdout",
     "output_type": "stream",
     "text": [
      "{'loss': 0.4412, 'grad_norm': 9.27596378326416, 'learning_rate': 0.0004356002060793405, 'epoch': 0.26}\n"
     ]
    },
    {
     "data": {
      "application/vnd.jupyter.widget-view+json": {
       "model_id": "74581b44545547cb80b9ae1531ebcdac",
       "version_major": 2,
       "version_minor": 0
      },
      "text/plain": [
       "  0%|          | 0/1942 [00:00<?, ?it/s]"
      ]
     },
     "metadata": {},
     "output_type": "display_data"
    },
    {
     "name": "stdout",
     "output_type": "stream",
     "text": [
      "{'eval_loss': 0.7281646728515625, 'eval_accuracy': 0.8480556270924543, 'eval_runtime': 55.9505, 'eval_samples_per_second': 69.401, 'eval_steps_per_second': 34.709, 'epoch': 0.26}\n",
      "{'loss': 0.4217, 'grad_norm': 1.2456872463226318, 'learning_rate': 0.0003712004121586811, 'epoch': 0.52}\n"
     ]
    },
    {
     "data": {
      "application/vnd.jupyter.widget-view+json": {
       "model_id": "46678da2213346c9b1b58b5509029a9f",
       "version_major": 2,
       "version_minor": 0
      },
      "text/plain": [
       "  0%|          | 0/1942 [00:00<?, ?it/s]"
      ]
     },
     "metadata": {},
     "output_type": "display_data"
    },
    {
     "name": "stdout",
     "output_type": "stream",
     "text": [
      "{'eval_loss': 0.8204718828201294, 'eval_accuracy': 0.8501158897759464, 'eval_runtime': 63.9152, 'eval_samples_per_second': 60.752, 'eval_steps_per_second': 30.384, 'epoch': 0.52}\n",
      "{'loss': 0.4436, 'grad_norm': 18.52884292602539, 'learning_rate': 0.0003068006182380216, 'epoch': 0.77}\n"
     ]
    },
    {
     "data": {
      "application/vnd.jupyter.widget-view+json": {
       "model_id": "1cedc1c4e4354198b97551060fc10b39",
       "version_major": 2,
       "version_minor": 0
      },
      "text/plain": [
       "  0%|          | 0/1942 [00:00<?, ?it/s]"
      ]
     },
     "metadata": {},
     "output_type": "display_data"
    },
    {
     "name": "stdout",
     "output_type": "stream",
     "text": [
      "{'eval_loss': 0.7780385613441467, 'eval_accuracy': 0.8511460211176926, 'eval_runtime': 59.2007, 'eval_samples_per_second': 65.59, 'eval_steps_per_second': 32.804, 'epoch': 0.77}\n",
      "{'loss': 0.4322, 'grad_norm': 1.7750816345214844, 'learning_rate': 0.00024240082431736218, 'epoch': 1.03}\n"
     ]
    },
    {
     "data": {
      "application/vnd.jupyter.widget-view+json": {
       "model_id": "dbb5c01344f242b68cb9e614b54743e4",
       "version_major": 2,
       "version_minor": 0
      },
      "text/plain": [
       "  0%|          | 0/1942 [00:00<?, ?it/s]"
      ]
     },
     "metadata": {},
     "output_type": "display_data"
    },
    {
     "name": "stdout",
     "output_type": "stream",
     "text": [
      "{'eval_loss': 0.8143168091773987, 'eval_accuracy': 0.844965233067216, 'eval_runtime': 47.5832, 'eval_samples_per_second': 81.604, 'eval_steps_per_second': 40.813, 'epoch': 1.03}\n",
      "{'loss': 0.305, 'grad_norm': 4.664235591888428, 'learning_rate': 0.00017800103039670274, 'epoch': 1.29}\n"
     ]
    },
    {
     "data": {
      "application/vnd.jupyter.widget-view+json": {
       "model_id": "b0c9134090c640c9807835644dd0eb4e",
       "version_major": 2,
       "version_minor": 0
      },
      "text/plain": [
       "  0%|          | 0/1942 [00:00<?, ?it/s]"
      ]
     },
     "metadata": {},
     "output_type": "display_data"
    },
    {
     "name": "stdout",
     "output_type": "stream",
     "text": [
      "{'eval_loss': 0.8618097305297852, 'eval_accuracy': 0.851403553953129, 'eval_runtime': 44.2536, 'eval_samples_per_second': 87.744, 'eval_steps_per_second': 43.883, 'epoch': 1.29}\n",
      "{'loss': 0.3241, 'grad_norm': 27.797239303588867, 'learning_rate': 0.00011360123647604328, 'epoch': 1.55}\n"
     ]
    },
    {
     "data": {
      "application/vnd.jupyter.widget-view+json": {
       "model_id": "167942bf3fed416082eeaed024f476bf",
       "version_major": 2,
       "version_minor": 0
      },
      "text/plain": [
       "  0%|          | 0/1942 [00:00<?, ?it/s]"
      ]
     },
     "metadata": {},
     "output_type": "display_data"
    },
    {
     "name": "stdout",
     "output_type": "stream",
     "text": [
      "{'eval_loss': 0.816728413105011, 'eval_accuracy': 0.8485706927633273, 'eval_runtime': 52.7744, 'eval_samples_per_second': 73.577, 'eval_steps_per_second': 36.798, 'epoch': 1.55}\n",
      "{'loss': 0.2926, 'grad_norm': 12.938920021057129, 'learning_rate': 4.9201442555383824e-05, 'epoch': 1.8}\n"
     ]
    },
    {
     "data": {
      "application/vnd.jupyter.widget-view+json": {
       "model_id": "c17af6eb976f41fba033be5b5b7b8832",
       "version_major": 2,
       "version_minor": 0
      },
      "text/plain": [
       "  0%|          | 0/1942 [00:00<?, ?it/s]"
      ]
     },
     "metadata": {},
     "output_type": "display_data"
    },
    {
     "name": "stdout",
     "output_type": "stream",
     "text": [
      "{'eval_loss': 0.9655352234840393, 'eval_accuracy': 0.8529487509657482, 'eval_runtime': 47.6816, 'eval_samples_per_second': 81.436, 'eval_steps_per_second': 40.728, 'epoch': 1.8}\n",
      "{'train_runtime': 1475.0859, 'train_samples_per_second': 42.113, 'train_steps_per_second': 2.632, 'train_loss': 0.37588222686437406, 'epoch': 2.0}\n",
      "Model saved successfully!\n"
     ]
    }
   ],
   "source": [
    "from transformers import TrainingArguments, Trainer, default_data_collator\n",
    "\n",
    "data_collator = DataCollatorWithPadding(tokenizer=tokenizer)\n",
    "\n",
    "training_args = TrainingArguments(\n",
    "    output_dir=\"./app/models/student-model-lora\",\n",
    "    learning_rate=5e-4,\n",
    "    per_device_train_batch_size=4,\n",
    "    per_device_eval_batch_size=2,\n",
    "    gradient_accumulation_steps=4,\n",
    "    num_train_epochs=2,\n",
    "    weight_decay=0.01,\n",
    "    load_best_model_at_end=True,\n",
    "    evaluation_strategy=\"steps\", \n",
    "    save_strategy=\"steps\",        \n",
    "    save_steps=500,               \n",
    "    eval_steps=500, \n",
    "    save_total_limit=2,  # Keeps only 2 latest checkpoints to save disk space\n",
    "    report_to=\"none\",  # Set to \"wandb\" or \"tensorboard\" if needed\n",
    "    push_to_hub=False,  # Set to True if pushing model to Hugging Face\n",
    "    bf16=True,\n",
    "    # fp16=False\n",
    ")\n",
    "\n",
    "trainer = Trainer(\n",
    "    model=model_lora,\n",
    "    args=training_args,\n",
    "    train_dataset=tokenized_datasets[\"train\"],\n",
    "    eval_dataset=tokenized_datasets[\"test\"],\n",
    "    tokenizer=tokenizer,\n",
    "    data_collator=data_collator,\n",
    "    compute_metrics=compute_metrics,\n",
    ")\n",
    "\n",
    "trainer.train()  # Make sure the model is trained\n",
    "\n",
    "# Save trained LoRA model properly\n",
    "trainer.save_model(\"./app/models/student-model-lora\")  \n",
    "model_lora.save_pretrained(\"./app/models/student-model-lora\")  \n",
    "\n",
    "print(\"Model saved successfully!\")"
   ]
  },
  {
   "cell_type": "code",
   "execution_count": 59,
   "metadata": {},
   "outputs": [
    {
     "name": "stdout",
     "output_type": "stream",
     "text": [
      "['adapter_model.safetensors', 'checkpoint-3882', 'checkpoint-500', 'tokenizer_config.json', 'special_tokens_map.json', 'tokenizer.json', 'README.md', 'training_args.bin', 'adapter_config.json', 'vocab.txt']\n"
     ]
    }
   ],
   "source": [
    "import os\n",
    "print(os.listdir(\"./app/models/student-model-lora\"))"
   ]
  },
  {
   "cell_type": "code",
   "execution_count": 61,
   "metadata": {},
   "outputs": [
    {
     "name": "stderr",
     "output_type": "stream",
     "text": [
      "Some weights of BertForSequenceClassification were not initialized from the model checkpoint at bert-base-uncased and are newly initialized: ['classifier.bias', 'classifier.weight']\n",
      "You should probably TRAIN this model on a down-stream task to be able to use it for predictions and inference.\n"
     ]
    },
    {
     "name": "stdout",
     "output_type": "stream",
     "text": [
      "\n",
      "LoRA Model Predictions:\n",
      "Text: \"I love you\", Prediction: Non-Toxic\n",
      "Text: \"I hate you\", Prediction: Toxic\n"
     ]
    }
   ],
   "source": [
    "from peft import PeftModel\n",
    "\n",
    "model_name = \"./app/models/student-model-lora\"\n",
    "\n",
    "# Load tokenizer\n",
    "tokenizer = AutoTokenizer.from_pretrained(model_name)\n",
    "\n",
    "# Load trained model with LoRA adapter\n",
    "base_model = AutoModelForSequenceClassification.from_pretrained(model_name)\n",
    "student_model_lora = PeftModel.from_pretrained(base_model, model_name)\n",
    "\n",
    "# Predict toxicity for both models\n",
    "student_model_lora_predictions = predict_with_model(student_model_lora, inputs)\n",
    "\n",
    "# Interpret results\n",
    "print(\"\\nLoRA Model Predictions:\")\n",
    "for text, pred in zip(texts, student_model_lora_predictions):\n",
    "    print(f'Text: \"{text}\", Prediction: {\"Toxic\" if pred.item() == 1 else \"Non-Toxic\"}')"
   ]
  },
  {
   "cell_type": "markdown",
   "metadata": {},
   "source": [
    "#### **Task 4. Evaluation and Analysis**\n",
    "1) Evaluate the models on the test set, and analyze the performance of the models trained with Odd Layers, Even Layers, and LoRA. Discuss the differences in performance across the three methods.(0.5 point)\n",
    "    The difference in performance across the three methods are determined by comparing the results of the model performance.\n",
    "    - The models trained with Odd Layers may have lower performance than the models trained with Even Layers, especially for smaller datasets or less complex tasks.\n",
    "    - The models trained with LoRA may have higher performance than the models trained with Odd Layers, especially for smaller datasets or less complex tasks.\n",
    "    - The models trained with Odd Layers may require more computational resources, such as GPUs, to achieve good performance. This can be time-consuming and resource-intensive.\n",
    "    - The models trained with LoRA may require more compute resources, such as GPUs, to achieve good performance. This can be time-consuming and resource-intensive.\n",
    "\n",
    "2) Discuss the challenges encountered during the implementation, specifically comparing distillation fine-tuning models (Odd and Even Layer) with LoRA fine-tuning. Propose improvements or modifications to address the challenges. (0.5 point)\n",
    "\n",
    "    **Challenges encountered during the implementation:**\n",
    "    - Distillation fine-tuning models (Odd and Even Layers) often require a large amount of labeled data to achieve good performance. This can be time-consuming and resource-intensive.\n",
    "    - Training a model with LoRA requires a significant amount of compute resources, such as GPUs, to achieve good performance. This can be time-consuming and resource-intensive.\n",
    "    - Odd and Even Layers models require careful hyperparameter tuning to achieve good performance. These models can be sensitive to hyperparameter values, and finding the optimal hyperparameters can be challenging.\n",
    "    - The performance of Odd and Even Layers models may not be as good as LoRA models, especially for smaller datasets or less complex tasks.\n",
    "    - The performance of the models trained with LoRA may not be as good as the models trained with Odd and Even Layers, especially for smaller datasets or less complex tasks.\n",
    "  \n",
    "    **Improvements or modifications to address the challenges:**\n",
    "    - To address the challenge of training distillation fine-tuning models (Odd and Even Layers) with large labeled datasets, consider using transfer learning techniques, such as pre-training on a larger dataset and fine-tuning on a smaller dataset.\n",
    "    - To address the challenge of training a model with LoRA, consider using mixed-precision training techniques, such as mixed-precision training with NVIDIA Apex library, to accelerate the training process and reduce memory usage.\n",
    "    - To address the challenge of hyperparameter tuning for Odd and Even Layers models, consider using automated hyperparameter tuning techniques, such as Bayesian optimization or grid search.\n",
    "    - To address the challenge of achieving good performance for Odd and Even Layers models, consider using techniques like gradient checkpointing or layer pruning to reduce memory usage and improve training speed.\n",
    "    - To address the challenge of achieving good performance for the models trained with LoRA, consider using techniques like gradient checkpointing or layer pruning to reduce memory usage and improve training speed.\n",
    "    - To address the challenge of achieving good performance for both Odd and Even Layers models and the models trained with LoRA, consider using techniques like ensemble learning or model averaging to combine the predictions of multiple models.\n",
    "    \n",
    "    **Performance Analysis:**\n",
    "    | Model Type    | Training Loss | Test Set Performance |\n",
    "    | ------------- | ------------- |--------------------- |\n",
    "    | Odd Layer     | 0.1789        |  0.8351              |\n",
    "    | Even Layer    | 0.4567        |  0.8350              |\n",
    "    | LoRA          | 0.3758        |  0.8529              |\n",
    "\n",
    "    The performance of the models trained with Odd Layers and Even Layers is comparable, with the Even Layer model achieving slightly better performance. The models trained with LoRA achieve the best performance, with a test set performance of 0.8529. The improvements or modifications proposed to address the challenges can help improve the performance of the models, making them more suitable for real-world applications. The performance analysis provided in the table highlights the differences in performance across the three methods."
   ]
  },
  {
   "cell_type": "markdown",
   "metadata": {},
   "source": [
    "#### **Task 5. Web Application**\n",
    "Develop a simple web application that classifies whether a given text input is toxic or hate speech. (1 point) The web application should:\n",
    "1) Include an input box where users can type in a text prompt.\n",
    "2) Based on the input, the model should classify and display whether the text is toxic or not. For example, if the input is ”I hate you”, the model might classify it as toxic."
   ]
  },
  {
   "cell_type": "markdown",
   "metadata": {},
   "source": [
    "To implement the web application, we can use a web framework like Flask. Here's a basic outline of the steps to follow:\n",
    "\n",
    "- Set up a Flask application.\n",
    "- Create a route for the web application, which will handle the input text and classify it using the trained models.\n",
    "- In the route handler, preprocess the input text using the same tokenizer as the models.\n",
    "- Use the trained models to predict the toxicity of the input text.\n",
    "- Display the web application\n",
    "- Use the trained models to display the web application.\n",
    "\n",
    "Please note that developing a full-fledged web application with user authentication, real-time predictions, and a user-friendly interface would require additional steps and infrastructure. For simplicity, I will provide a basic example of a Flask application that classifies toxicity using the trained models."
   ]
  },
  {
   "cell_type": "code",
   "execution_count": null,
   "metadata": {},
   "outputs": [],
   "source": []
  },
  {
   "cell_type": "code",
   "execution_count": null,
   "metadata": {},
   "outputs": [],
   "source": []
  },
  {
   "cell_type": "code",
   "execution_count": null,
   "metadata": {},
   "outputs": [],
   "source": []
  }
 ],
 "metadata": {
  "kernelspec": {
   "display_name": "PyEnv",
   "language": "python",
   "name": "python3"
  },
  "language_info": {
   "codemirror_mode": {
    "name": "ipython",
    "version": 3
   },
   "file_extension": ".py",
   "mimetype": "text/x-python",
   "name": "python",
   "nbconvert_exporter": "python",
   "pygments_lexer": "ipython3",
   "version": "3.9.21"
  }
 },
 "nbformat": 4,
 "nbformat_minor": 2
}
